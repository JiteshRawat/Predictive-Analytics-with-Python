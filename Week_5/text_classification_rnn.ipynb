{
  "nbformat": 4,
  "nbformat_minor": 0,
  "metadata": {
    "accelerator": "GPU",
    "colab": {
      "name": "text_classification_rnn.ipynb",
      "provenance": [],
      "collapsed_sections": [],
      "toc_visible": true
    },
    "kernelspec": {
      "display_name": "Python 3",
      "name": "python3"
    }
  },
  "cells": [
    {
      "cell_type": "markdown",
      "metadata": {
        "id": "hX4n9TsbGw-f"
      },
      "source": [
        "##### Copyright 2018 The TensorFlow Authors."
      ]
    },
    {
      "cell_type": "code",
      "metadata": {
        "cellView": "form",
        "id": "0nbI5DtDGw-i"
      },
      "source": [
        "#@title Licensed under the Apache License, Version 2.0 (the \"License\");\n",
        "# you may not use this file except in compliance with the License.\n",
        "# You may obtain a copy of the License at\n",
        "#\n",
        "# https://www.apache.org/licenses/LICENSE-2.0\n",
        "#\n",
        "# Unless required by applicable law or agreed to in writing, software\n",
        "# distributed under the License is distributed on an \"AS IS\" BASIS,\n",
        "# WITHOUT WARRANTIES OR CONDITIONS OF ANY KIND, either express or implied.\n",
        "# See the License for the specific language governing permissions and\n",
        "# limitations under the License."
      ],
      "execution_count": null,
      "outputs": []
    },
    {
      "cell_type": "markdown",
      "metadata": {
        "id": "9TnJztDZGw-n"
      },
      "source": [
        "# Text classification with an RNN"
      ]
    },
    {
      "cell_type": "markdown",
      "metadata": {
        "id": "AfN3bMR5Gw-o"
      },
      "source": [
        "<table class=\"tfo-notebook-buttons\" align=\"left\">\n",
        "  <td>\n",
        "    <a target=\"_blank\" href=\"https://www.tensorflow.org/tutorials/text/text_classification_rnn\"><img src=\"https://www.tensorflow.org/images/tf_logo_32px.png\" />View on TensorFlow.org</a>\n",
        "  </td>\n",
        "  <td>\n",
        "    <a target=\"_blank\" href=\"https://colab.research.google.com/github/tensorflow/docs/blob/master/site/en/tutorials/text/text_classification_rnn.ipynb\"><img src=\"https://www.tensorflow.org/images/colab_logo_32px.png\" />Run in Google Colab</a>\n",
        "  </td>\n",
        "  <td>\n",
        "    <a target=\"_blank\" href=\"https://github.com/tensorflow/docs/blob/master/site/en/tutorials/text/text_classification_rnn.ipynb\"><img src=\"https://www.tensorflow.org/images/GitHub-Mark-32px.png\" />View source on GitHub</a>\n",
        "  </td>\n",
        "  <td>\n",
        "    <a href=\"https://storage.googleapis.com/tensorflow_docs/docs/site/en/tutorials/text/text_classification_rnn.ipynb\"><img src=\"https://www.tensorflow.org/images/download_logo_32px.png\" />Download notebook</a>\n",
        "  </td>\n",
        "</table>"
      ]
    },
    {
      "cell_type": "markdown",
      "metadata": {
        "id": "lUWearf0Gw-p"
      },
      "source": [
        "This text classification tutorial trains a [recurrent neural network](https://developers.google.com/machine-learning/glossary/#recurrent_neural_network) on the [IMDB large movie review dataset](http://ai.stanford.edu/~amaas/data/sentiment/) for sentiment analysis."
      ]
    },
    {
      "cell_type": "markdown",
      "metadata": {
        "id": "_2VQo4bajwUU"
      },
      "source": [
        "## Setup"
      ]
    },
    {
      "cell_type": "code",
      "metadata": {
        "id": "vH_FAfIz5dEw"
      },
      "source": [
        "!pip install -q -U tensorflow\n",
        "!pip install -q tensorflow_datasets"
      ],
      "execution_count": 1,
      "outputs": []
    },
    {
      "cell_type": "code",
      "metadata": {
        "id": "z682XYsrjkY9"
      },
      "source": [
        "import numpy as np\n",
        "\n",
        "import tensorflow_datasets as tfds\n",
        "import tensorflow as tf\n",
        "\n",
        "tfds.disable_progress_bar()"
      ],
      "execution_count": 2,
      "outputs": []
    },
    {
      "cell_type": "markdown",
      "metadata": {
        "id": "1rXHa-w9JZhb"
      },
      "source": [
        "Import `matplotlib` and create a helper function to plot graphs:"
      ]
    },
    {
      "cell_type": "code",
      "metadata": {
        "id": "Mp1Z7P9pYRSK"
      },
      "source": [
        "import matplotlib.pyplot as plt\n",
        "\n",
        "def plot_graphs(history, metric):\n",
        "  plt.plot(history.history[metric])\n",
        "  plt.plot(history.history['val_'+metric], '')\n",
        "  plt.xlabel(\"Epochs\")\n",
        "  plt.ylabel(metric)\n",
        "  plt.legend([metric, 'val_'+metric])"
      ],
      "execution_count": 3,
      "outputs": []
    },
    {
      "cell_type": "markdown",
      "metadata": {
        "id": "pRmMubr0jrE2"
      },
      "source": [
        "## Setup input pipeline\n",
        "\n",
        "\n",
        "The IMDB large movie review dataset is a *binary classification* dataset—all the reviews have either a *positive* or *negative* sentiment.\n",
        "\n",
        "Download the dataset using [TFDS](https://www.tensorflow.org/datasets). See the [loading text tutorial](../load_data/text.ipynb) for details on how to load this sort of data manually.\n"
      ]
    },
    {
      "cell_type": "code",
      "metadata": {
        "id": "SHRwRoP2nVHX",
        "colab": {
          "base_uri": "https://localhost:8080/"
        },
        "outputId": "286ceca7-76e8-4a01-f8a6-71af18d68212"
      },
      "source": [
        "dataset, info = tfds.load('imdb_reviews', with_info=True,\n",
        "                          as_supervised=True)\n",
        "train_dataset, test_dataset = dataset['train'], dataset['test']\n",
        "\n",
        "train_dataset.element_spec"
      ],
      "execution_count": 4,
      "outputs": [
        {
          "output_type": "stream",
          "text": [
            "\u001b[1mDownloading and preparing dataset imdb_reviews/plain_text/1.0.0 (download: 80.23 MiB, generated: Unknown size, total: 80.23 MiB) to /root/tensorflow_datasets/imdb_reviews/plain_text/1.0.0...\u001b[0m\n",
            "Shuffling and writing examples to /root/tensorflow_datasets/imdb_reviews/plain_text/1.0.0.incompleteM3Z4NN/imdb_reviews-train.tfrecord\n",
            "Shuffling and writing examples to /root/tensorflow_datasets/imdb_reviews/plain_text/1.0.0.incompleteM3Z4NN/imdb_reviews-test.tfrecord\n",
            "Shuffling and writing examples to /root/tensorflow_datasets/imdb_reviews/plain_text/1.0.0.incompleteM3Z4NN/imdb_reviews-unsupervised.tfrecord\n"
          ],
          "name": "stdout"
        },
        {
          "output_type": "stream",
          "text": [
            "WARNING:absl:Dataset is using deprecated text encoder API which will be removed soon. Please use the plain_text version of the dataset and migrate to `tensorflow_text`.\n"
          ],
          "name": "stderr"
        },
        {
          "output_type": "stream",
          "text": [
            "\u001b[1mDataset imdb_reviews downloaded and prepared to /root/tensorflow_datasets/imdb_reviews/plain_text/1.0.0. Subsequent calls will reuse this data.\u001b[0m\n"
          ],
          "name": "stdout"
        },
        {
          "output_type": "execute_result",
          "data": {
            "text/plain": [
              "(TensorSpec(shape=(), dtype=tf.string, name=None),\n",
              " TensorSpec(shape=(), dtype=tf.int64, name=None))"
            ]
          },
          "metadata": {
            "tags": []
          },
          "execution_count": 4
        }
      ]
    },
    {
      "cell_type": "markdown",
      "metadata": {
        "id": "nWA4c2ir7g6p"
      },
      "source": [
        "Initially this returns a dataset of (text, label pairs):"
      ]
    },
    {
      "cell_type": "code",
      "metadata": {
        "id": "vd4_BGKyurao",
        "colab": {
          "base_uri": "https://localhost:8080/"
        },
        "outputId": "e41324b6-5349-4f4e-9d35-e64bf442d3b5"
      },
      "source": [
        "for example, label in train_dataset.take(1):\n",
        "  print('text: ', example.numpy())\n",
        "  print('label: ', label.numpy())"
      ],
      "execution_count": 5,
      "outputs": [
        {
          "output_type": "stream",
          "text": [
            "text:  b\"This was an absolutely terrible movie. Don't be lured in by Christopher Walken or Michael Ironside. Both are great actors, but this must simply be their worst role in history. Even their great acting could not redeem this movie's ridiculous storyline. This movie is an early nineties US propaganda piece. The most pathetic scenes were those when the Columbian rebels were making their cases for revolutions. Maria Conchita Alonso appeared phony, and her pseudo-love affair with Walken was nothing but a pathetic emotional plug in a movie that was devoid of any real meaning. I am disappointed that there are movies like this, ruining actor's like Christopher Walken's good name. I could barely sit through it.\"\n",
            "label:  0\n"
          ],
          "name": "stdout"
        }
      ]
    },
    {
      "cell_type": "markdown",
      "metadata": {
        "id": "z2qVJzcEluH_"
      },
      "source": [
        "Next shuffle the data for training and create batches of these `(text, label)` pairs:"
      ]
    },
    {
      "cell_type": "code",
      "metadata": {
        "id": "dDsCaZCDYZgm"
      },
      "source": [
        "BUFFER_SIZE = 10000\n",
        "BATCH_SIZE = 64"
      ],
      "execution_count": 6,
      "outputs": []
    },
    {
      "cell_type": "code",
      "metadata": {
        "id": "VznrltNOnUc5"
      },
      "source": [
        "train_dataset = train_dataset.shuffle(BUFFER_SIZE).batch(BATCH_SIZE).prefetch(tf.data.AUTOTUNE)\n",
        "test_dataset = test_dataset.batch(BATCH_SIZE).prefetch(tf.data.AUTOTUNE)"
      ],
      "execution_count": 7,
      "outputs": []
    },
    {
      "cell_type": "code",
      "metadata": {
        "id": "jqkvdcFv41wC",
        "colab": {
          "base_uri": "https://localhost:8080/"
        },
        "outputId": "2c0a03e1-e1fb-42e0-8cde-c7a4676ad732"
      },
      "source": [
        "for example, label in train_dataset.take(1):\n",
        "  print('texts: ', example.numpy()[:3])\n",
        "  print()\n",
        "  print('labels: ', label.numpy()[:3])"
      ],
      "execution_count": 8,
      "outputs": [
        {
          "output_type": "stream",
          "text": [
            "texts:  [b'THIS POST MAY CONTAIN SPOILERS :<br /><br />Although it was 5 years after the series ended and WB was currently working on Justice League, this animated movie is a welcome addition to the video library. Why? Well, if Mask of the Phantasm compliments the first 70 episodes of Batman: The Animated Series and SubZero compliments the 15 episodes of the Adventures of Batman and Robin, then Mystery of the Batwoman compliments the final 24 episodes of the Gotham Knights version of Batman. Kevin Conroy once again delivers a voice over performance that is nothing short of excellence and perfection. I admit I was a bit leery when I heard about Batwoman and all I could think about were the old 50\\'s comics of Batman. But I was blown away by the Batwoman character, her look, her costume (which I assumed inspired Bruce Wayne to create the costume on Batman Beyond)and the fact that this movie keeps you guessing who Batwoman is all the way through. If you want to know who Batwoman is, then buy or rent the DVD. Barbara Gordon makes a cameo appearance and I think the writers were trying to hint that Bruce and Barbara had something going on between them like they did in Batman Beyond. Tim Drake appears as Robin, but his role is a small one and sadly, there is no sign of or mention of Dick Grayson alias Nightwing, which leads me to believe he has established himself in Bludhaven (his city in the comics).<br /><br />Of the three suspects for Batwoman, my favorite is Kathy Duquesne, who looks an awful lot like Halle Berry. Kelly Ripa did a great job as one of the other suspects. When it comes to the villains, I\\'m glad the Penguin was one of them, but I did not like the fact that they replaced Paul Williams with David Ogden Stiers. Pengy just didn\\'t sound right. Same thing goes for Robin. The new guy did okay, but just as I was starting to get used to Matt Valencia, they replaced him. It\\'s interesting to note that Kevin Michael Richardson, who voices Carlton Duquesne is now the voice of the Joker in \"The Batman\" series. And we finally see what Rupert Thorne looks like revamped since he didn\\'t show up in the Gotham Knights episodes. The late John Vernon will be missed. Although I enjoyed Henry Silva as the voice of Bane, if he had to be replaced, they got the right man in the form of Hector Elizondo. I only wish they could have used Two Face, Riddler, or the scary new version of the Scarecrow.<br /><br />The musical score and especially the soft sounding intro were superb. I wish that was on a soundtrack and I especially enjoyed the beautiful and talented Cherie in the Iceberg Lounge along with her song, Betcha Neva. While some feel that this movie is weaker than the Mask of the Phantasm and Subzero, I find it just as strong and enjoyable as the rest, plus like I said earlier, it\\'s a full length movie based off the Gotham Knights version of Batman, which I think gives a good balance. I would at least recommend renting this DVD first before buying it for those who might be leery of this movie, but personally, it\\'s well worth the purchase. I give Mystery of the Batwoman a 9.'\n",
            " b'This game is the bomb and this is the 007 game of the year and should be on greatest hits. When I got Agent Under Fire, I thought that was a good game but then Nightfire came around and that was better, but now there is a new type of James Bond game. This time it a 3rd person shooter and there is more than 12 missions, the graphics of the game are out of this house. It even has all of the great actors and actresses in this game like Pierce Bronsan as once again James Bond, William Dafoe as the villain Nikolai Diavolo, and Judi Dench as M (forgive me all if I spell it wrong). This game would be own as the greatest James Bond game around.<br /><br />I give this a 10/10'\n",
            " b'Now, I like sci-fi cartoons. However, when \"Robotboy\" appeared in Canada in late 2006, I watched the premiere and was inevitably appalled. The characters are generic and stereotypical (Do they REALLY need to make an African-American man wear tiger-stripe print clothing and speak in a Jamacian accent? WHY are all the Asian characters vibrant yellow and squinting? Does the mother HAVE to have big thighs and chest and constantly complain?) to the point where things become unrealistic, predictable, gross and sometimes disturbing. There are heavy similarities to, even stabs, at Astro Boy. Allow me to explain (dub names for the young): Robotboy/Astro, Kamikaze/Tenma, Constantine/Shadow, Gus/Abercrombie, Tommy/Alejo, Lola/Zoran+Kennedy, Moshimo/O\\'Shay, and it so on. Brief resemblances to \"My Life As A Teenage Robot\", \"Star Wars\", \"Teenage Mutant Ninja Turtles\", \"Kamen Riders\", \"Sailor Moon\" and co. are afoot. Not to mention the abundant racial/gender stereotyping. Don\\'t even get me started on the innuendos. I\\'ll just say they\\'re hidden and quite dirty. But seriously. Don\\'t even try watching this. Especially if you like Astro Boy.']\n",
            "\n",
            "labels:  [1 1 0]\n"
          ],
          "name": "stdout"
        }
      ]
    },
    {
      "cell_type": "markdown",
      "metadata": {
        "id": "s5eWCo88voPY"
      },
      "source": [
        "## Create the text encoder"
      ]
    },
    {
      "cell_type": "markdown",
      "metadata": {
        "id": "TFevcItw15P_"
      },
      "source": [
        "The raw text loaded by `tfds` needs to be processed before it can be used in a model. The simplest way to process text for training is using the `experimental.preprocessing.TextVectorization` layer. This layer has many capabilities, but this tutorial sticks to the default behavior.\n",
        "\n",
        "Create the layer, and pass the dataset's text to the layer's `.adapt` method:"
      ]
    },
    {
      "cell_type": "code",
      "metadata": {
        "id": "uC25Lu1Yvuqy"
      },
      "source": [
        "VOCAB_SIZE=1000\n",
        "encoder = tf.keras.layers.experimental.preprocessing.TextVectorization(\n",
        "    max_tokens=VOCAB_SIZE)\n",
        "encoder.adapt(train_dataset.map(lambda text, label: text))"
      ],
      "execution_count": 9,
      "outputs": []
    },
    {
      "cell_type": "markdown",
      "metadata": {
        "id": "IuQzVBbe3Ldu"
      },
      "source": [
        "The `.adapt` method sets the layer's vocabulary. Here are the first 20 tokens. After the padding and unknown tokens they're sorted by frequency: "
      ]
    },
    {
      "cell_type": "code",
      "metadata": {
        "id": "tBoyjjWg0Ac9",
        "colab": {
          "base_uri": "https://localhost:8080/"
        },
        "outputId": "4df5d1dd-c3a9-4505-dfda-e0e9223c499d"
      },
      "source": [
        "vocab = np.array(encoder.get_vocabulary())\n",
        "vocab[:20]"
      ],
      "execution_count": 10,
      "outputs": [
        {
          "output_type": "execute_result",
          "data": {
            "text/plain": [
              "array(['', '[UNK]', 'the', 'and', 'a', 'of', 'to', 'is', 'in', 'it', 'i',\n",
              "       'this', 'that', 'br', 'was', 'as', 'for', 'with', 'movie', 'but'],\n",
              "      dtype='<U14')"
            ]
          },
          "metadata": {
            "tags": []
          },
          "execution_count": 10
        }
      ]
    },
    {
      "cell_type": "markdown",
      "metadata": {
        "id": "mjId5pua3jHQ"
      },
      "source": [
        "Once the vocabulary is set, the layer can encode text into indices. The tensors of indices are 0-padded to the longest sequence in the batch (unless you set a fixed `output_sequence_length`):"
      ]
    },
    {
      "cell_type": "code",
      "metadata": {
        "id": "RGc7C9WiwRWs",
        "colab": {
          "base_uri": "https://localhost:8080/"
        },
        "outputId": "2e7709c9-f4b7-4405-d000-706bc24d8e0a"
      },
      "source": [
        "encoded_example = encoder(example)[:3].numpy()\n",
        "encoded_example"
      ],
      "execution_count": 11,
      "outputs": [
        {
          "output_type": "execute_result",
          "data": {
            "text/plain": [
              "array([[ 11,   1, 194, ...,   0,   0,   0],\n",
              "       [ 11, 503,   7, ...,   0,   0,   0],\n",
              "       [150,  10,  39, ...,   0,   0,   0]])"
            ]
          },
          "metadata": {
            "tags": []
          },
          "execution_count": 11
        }
      ]
    },
    {
      "cell_type": "markdown",
      "metadata": {
        "id": "F5cjz0bS39IN"
      },
      "source": [
        "With the default settings, the process is not completely reversible. There are three main reasons for that:\n",
        "\n",
        "1. The default value for `preprocessing.TextVectorization`'s `standardize` argument is `\"lower_and_strip_punctuation\"`.\n",
        "2. The limited vocabulary size and lack of character-based fallback results in some unknown tokens."
      ]
    },
    {
      "cell_type": "code",
      "metadata": {
        "id": "N_tD0QY5wXaK",
        "colab": {
          "base_uri": "https://localhost:8080/"
        },
        "outputId": "605ca6b7-0bcc-4fdd-8315-6d7ef253a089"
      },
      "source": [
        "for n in range(3):\n",
        "  print(\"Original: \", example[n].numpy())\n",
        "  print(\"Round-trip: \", \" \".join(vocab[encoded_example[n]]))\n",
        "  print()"
      ],
      "execution_count": 12,
      "outputs": [
        {
          "output_type": "stream",
          "text": [
            "Original:  b'THIS POST MAY CONTAIN SPOILERS :<br /><br />Although it was 5 years after the series ended and WB was currently working on Justice League, this animated movie is a welcome addition to the video library. Why? Well, if Mask of the Phantasm compliments the first 70 episodes of Batman: The Animated Series and SubZero compliments the 15 episodes of the Adventures of Batman and Robin, then Mystery of the Batwoman compliments the final 24 episodes of the Gotham Knights version of Batman. Kevin Conroy once again delivers a voice over performance that is nothing short of excellence and perfection. I admit I was a bit leery when I heard about Batwoman and all I could think about were the old 50\\'s comics of Batman. But I was blown away by the Batwoman character, her look, her costume (which I assumed inspired Bruce Wayne to create the costume on Batman Beyond)and the fact that this movie keeps you guessing who Batwoman is all the way through. If you want to know who Batwoman is, then buy or rent the DVD. Barbara Gordon makes a cameo appearance and I think the writers were trying to hint that Bruce and Barbara had something going on between them like they did in Batman Beyond. Tim Drake appears as Robin, but his role is a small one and sadly, there is no sign of or mention of Dick Grayson alias Nightwing, which leads me to believe he has established himself in Bludhaven (his city in the comics).<br /><br />Of the three suspects for Batwoman, my favorite is Kathy Duquesne, who looks an awful lot like Halle Berry. Kelly Ripa did a great job as one of the other suspects. When it comes to the villains, I\\'m glad the Penguin was one of them, but I did not like the fact that they replaced Paul Williams with David Ogden Stiers. Pengy just didn\\'t sound right. Same thing goes for Robin. The new guy did okay, but just as I was starting to get used to Matt Valencia, they replaced him. It\\'s interesting to note that Kevin Michael Richardson, who voices Carlton Duquesne is now the voice of the Joker in \"The Batman\" series. And we finally see what Rupert Thorne looks like revamped since he didn\\'t show up in the Gotham Knights episodes. The late John Vernon will be missed. Although I enjoyed Henry Silva as the voice of Bane, if he had to be replaced, they got the right man in the form of Hector Elizondo. I only wish they could have used Two Face, Riddler, or the scary new version of the Scarecrow.<br /><br />The musical score and especially the soft sounding intro were superb. I wish that was on a soundtrack and I especially enjoyed the beautiful and talented Cherie in the Iceberg Lounge along with her song, Betcha Neva. While some feel that this movie is weaker than the Mask of the Phantasm and Subzero, I find it just as strong and enjoyable as the rest, plus like I said earlier, it\\'s a full length movie based off the Gotham Knights version of Batman, which I think gives a good balance. I would at least recommend renting this DVD first before buying it for those who might be leery of this movie, but personally, it\\'s well worth the purchase. I give Mystery of the Batwoman a 9.'\n",
            "Round-trip:  this [UNK] may [UNK] [UNK] br br although it was 5 years after the series [UNK] and [UNK] was [UNK] working on [UNK] [UNK] this [UNK] movie is a [UNK] [UNK] to the video [UNK] why well if [UNK] of the [UNK] [UNK] the first [UNK] episodes of [UNK] the [UNK] series and [UNK] [UNK] the [UNK] episodes of the [UNK] of [UNK] and [UNK] then mystery of the [UNK] [UNK] the final [UNK] episodes of the [UNK] [UNK] version of [UNK] [UNK] [UNK] once again [UNK] a voice over performance that is nothing short of [UNK] and [UNK] i admit i was a bit [UNK] when i heard about [UNK] and all i could think about were the old [UNK] [UNK] of [UNK] but i was [UNK] away by the [UNK] character her look her [UNK] which i [UNK] [UNK] [UNK] [UNK] to create the [UNK] on [UNK] [UNK] the fact that this movie keeps you [UNK] who [UNK] is all the way through if you want to know who [UNK] is then buy or rent the dvd [UNK] [UNK] makes a [UNK] [UNK] and i think the writers were trying to [UNK] that [UNK] and [UNK] had something going on between them like they did in [UNK] beyond [UNK] [UNK] appears as [UNK] but his role is a small one and [UNK] there is no [UNK] of or mention of [UNK] [UNK] [UNK] [UNK] which leads me to believe he has [UNK] himself in [UNK] his city in the [UNK] br of the three [UNK] for [UNK] my favorite is [UNK] [UNK] who looks an awful lot like [UNK] [UNK] [UNK] [UNK] did a great job as one of the other [UNK] when it comes to the [UNK] im [UNK] the [UNK] was one of them but i did not like the fact that they [UNK] paul [UNK] with david [UNK] [UNK] [UNK] just didnt sound right same thing goes for [UNK] the new guy did okay but just as i was [UNK] to get used to [UNK] [UNK] they [UNK] him its interesting to note that [UNK] michael [UNK] who [UNK] [UNK] [UNK] is now the voice of the [UNK] in the [UNK] series and we finally see what [UNK] [UNK] looks like [UNK] since he didnt show up in the [UNK] [UNK] episodes the late john [UNK] will be [UNK] although i enjoyed [UNK] [UNK] as the voice of [UNK] if he had to be [UNK] they got the right man in the form of [UNK] [UNK] i only wish they could have used two face [UNK] or the scary new version of the [UNK] br the musical score and especially the [UNK] [UNK] [UNK] were superb i wish that was on a soundtrack and i especially enjoyed the beautiful and [UNK] [UNK] in the [UNK] [UNK] along with her song [UNK] [UNK] while some feel that this movie is [UNK] than the [UNK] of the [UNK] and [UNK] i find it just as strong and enjoyable as the rest plus like i said earlier its a full [UNK] movie based off the [UNK] [UNK] version of [UNK] which i think gives a good [UNK] i would at least recommend [UNK] this dvd first before [UNK] it for those who might be [UNK] of this movie but [UNK] its well worth the [UNK] i give mystery of the [UNK] a [UNK]                                                                                                                                                                                                                                                                                                                                                                                                              \n",
            "\n",
            "Original:  b'This game is the bomb and this is the 007 game of the year and should be on greatest hits. When I got Agent Under Fire, I thought that was a good game but then Nightfire came around and that was better, but now there is a new type of James Bond game. This time it a 3rd person shooter and there is more than 12 missions, the graphics of the game are out of this house. It even has all of the great actors and actresses in this game like Pierce Bronsan as once again James Bond, William Dafoe as the villain Nikolai Diavolo, and Judi Dench as M (forgive me all if I spell it wrong). This game would be own as the greatest James Bond game around.<br /><br />I give this a 10/10'\n",
            "Round-trip:  this game is the [UNK] and this is the [UNK] game of the year and should be on greatest [UNK] when i got [UNK] under fire i thought that was a good game but then [UNK] came around and that was better but now there is a new type of james [UNK] game this time it a [UNK] person [UNK] and there is more than [UNK] [UNK] the [UNK] of the game are out of this house it even has all of the great actors and [UNK] in this game like [UNK] [UNK] as once again james [UNK] [UNK] [UNK] as the [UNK] [UNK] [UNK] and [UNK] [UNK] as [UNK] [UNK] me all if i [UNK] it wrong this game would be own as the greatest james [UNK] game [UNK] br i give this a [UNK]                                                                                                                                                                                                                                                                                                                                                                                                                                                                                                                                                                                                                                                                                                                                                                                                                                                           \n",
            "\n",
            "Original:  b'Now, I like sci-fi cartoons. However, when \"Robotboy\" appeared in Canada in late 2006, I watched the premiere and was inevitably appalled. The characters are generic and stereotypical (Do they REALLY need to make an African-American man wear tiger-stripe print clothing and speak in a Jamacian accent? WHY are all the Asian characters vibrant yellow and squinting? Does the mother HAVE to have big thighs and chest and constantly complain?) to the point where things become unrealistic, predictable, gross and sometimes disturbing. There are heavy similarities to, even stabs, at Astro Boy. Allow me to explain (dub names for the young): Robotboy/Astro, Kamikaze/Tenma, Constantine/Shadow, Gus/Abercrombie, Tommy/Alejo, Lola/Zoran+Kennedy, Moshimo/O\\'Shay, and it so on. Brief resemblances to \"My Life As A Teenage Robot\", \"Star Wars\", \"Teenage Mutant Ninja Turtles\", \"Kamen Riders\", \"Sailor Moon\" and co. are afoot. Not to mention the abundant racial/gender stereotyping. Don\\'t even get me started on the innuendos. I\\'ll just say they\\'re hidden and quite dirty. But seriously. Don\\'t even try watching this. Especially if you like Astro Boy.'\n",
            "Round-trip:  now i like scifi [UNK] however when [UNK] [UNK] in [UNK] in late [UNK] i watched the [UNK] and was [UNK] [UNK] the characters are [UNK] and [UNK] do they really need to make an [UNK] man [UNK] [UNK] [UNK] [UNK] and [UNK] in a [UNK] [UNK] why are all the [UNK] characters [UNK] [UNK] and [UNK] does the mother have to have big [UNK] and [UNK] and [UNK] [UNK] to the point where things become [UNK] predictable [UNK] and sometimes [UNK] there are [UNK] [UNK] to even [UNK] at [UNK] boy [UNK] me to [UNK] [UNK] [UNK] for the young [UNK] [UNK] [UNK] [UNK] [UNK] [UNK] [UNK] and it so on [UNK] [UNK] to my life as a [UNK] [UNK] star [UNK] [UNK] [UNK] [UNK] [UNK] [UNK] [UNK] [UNK] [UNK] and [UNK] are [UNK] not to mention the [UNK] [UNK] [UNK] dont even get me started on the [UNK] ill just say theyre [UNK] and quite [UNK] but seriously dont even try watching this especially if you like [UNK] boy                                                                                                                                                                                                                                                                                                                                                                                                                                                                                                                                                                                                                                                                                                                                                                                                                        \n",
            "\n"
          ],
          "name": "stdout"
        }
      ]
    },
    {
      "cell_type": "markdown",
      "metadata": {
        "id": "bjUqGVBxGw-t"
      },
      "source": [
        "## Create the model"
      ]
    },
    {
      "cell_type": "markdown",
      "metadata": {
        "id": "W7zsmInBOCPO"
      },
      "source": [
        "![A drawing of the information flow in the model](https://github.com/tensorflow/docs/blob/master/site/en/tutorials/text/images/bidirectional.png?raw=1)"
      ]
    },
    {
      "cell_type": "markdown",
      "metadata": {
        "id": "bgs6nnSTGw-t"
      },
      "source": [
        "Above is a diagram of the model. \n",
        "\n",
        "1. This model can be build as a `tf.keras.Sequential`.\n",
        "\n",
        "1. The first layer is the `encoder`, which converts the text to a sequence of token indices.\n",
        "\n",
        "2. After the encoder is an embedding layer. An embedding layer stores one vector per word. When called, it converts the sequences of word indices to sequences of vectors. These vectors are trainable. After training (on enough data), words with similar meanings often have similar vectors.\n",
        "\n",
        "  This index-lookup is much more efficient than the equivalent operation of passing a one-hot encoded vector through a `tf.keras.layers.Dense` layer.\n",
        "\n",
        "3. A recurrent neural network (RNN) processes sequence input by iterating through the elements. RNNs pass the outputs from one timestep to their input on the next timestep.\n",
        "\n",
        "  The `tf.keras.layers.Bidirectional` wrapper can also be used with an RNN layer. This propagates the input forward and backwards through the RNN layer and then concatenates the final output. \n",
        "\n",
        "  * The main advantage to a bidirectional RNN is that the signal from the beginning of the input doesn't need to be processed all the way through every timestep to affect the output.  \n",
        "\n",
        "  * The main disadvantage of a bidirectional RNN is that you can't efficiently stream predictions as words are being added to the end.\n",
        "\n",
        "1. After the RNN has converted the sequence to a single vector the two `layers.Dense` do some final processing, and convert from this vector representation to a single logit as the classification output. \n"
      ]
    },
    {
      "cell_type": "markdown",
      "metadata": {
        "id": "V4fodCI7soQi"
      },
      "source": [
        "The code to implement this is below:"
      ]
    },
    {
      "cell_type": "code",
      "metadata": {
        "id": "LwfoBkmRYcP3"
      },
      "source": [
        "model = tf.keras.Sequential([\n",
        "    encoder,\n",
        "    tf.keras.layers.Embedding(\n",
        "        input_dim=len(encoder.get_vocabulary()),\n",
        "        output_dim=64,\n",
        "        # Use masking to handle the variable sequence lengths\n",
        "        mask_zero=True),\n",
        "    tf.keras.layers.Bidirectional(tf.keras.layers.LSTM(64)),\n",
        "    tf.keras.layers.Dense(64, activation='relu'),\n",
        "    tf.keras.layers.Dense(1)\n",
        "])"
      ],
      "execution_count": 13,
      "outputs": []
    },
    {
      "cell_type": "markdown",
      "metadata": {
        "id": "QIGmIGkkouUb"
      },
      "source": [
        "Please note that Keras sequential model is used here since all the layers in the model only have single input and produce single output. In case you want to use stateful RNN layer, you might want to build your model with Keras functional API or model subclassing so that you can retrieve and reuse the RNN layer states. Please check [Keras RNN guide](https://www.tensorflow.org/guide/keras/rnn#rnn_state_reuse) for more details."
      ]
    },
    {
      "cell_type": "markdown",
      "metadata": {
        "id": "kF-PsCk1LwjY"
      },
      "source": [
        "The embedding layer [uses masking](../../guide/keras/masking_and_padding) to handle the varying sequence-lengths. All the layers after the `Embedding` support masking:"
      ]
    },
    {
      "cell_type": "code",
      "metadata": {
        "id": "87a8-CwfKebw",
        "colab": {
          "base_uri": "https://localhost:8080/"
        },
        "outputId": "940485e3-5bef-47a8-fb3e-16d9ea1556a4"
      },
      "source": [
        "print([layer.supports_masking for layer in model.layers])"
      ],
      "execution_count": 14,
      "outputs": [
        {
          "output_type": "stream",
          "text": [
            "[False, True, True, True, True]\n"
          ],
          "name": "stdout"
        }
      ]
    },
    {
      "cell_type": "markdown",
      "metadata": {
        "id": "ZlS0iaUIWLpI"
      },
      "source": [
        "To confirm that this works as expected, evaluate a sentence twice. First, alone so there's no padding to mask:"
      ]
    },
    {
      "cell_type": "code",
      "metadata": {
        "id": "O41gw3KfWHus",
        "colab": {
          "base_uri": "https://localhost:8080/"
        },
        "outputId": "f8d22821-fa19-4311-c431-04162bc76242"
      },
      "source": [
        "# predict on a sample text without padding.\n",
        "\n",
        "sample_text = ('The movie was cool. The animation and the graphics '\n",
        "               'were out of this world. I would recommend this movie.')\n",
        "predictions = model.predict(np.array([sample_text]))\n",
        "print(predictions[0])"
      ],
      "execution_count": 15,
      "outputs": [
        {
          "output_type": "stream",
          "text": [
            "[0.00072879]\n"
          ],
          "name": "stdout"
        }
      ]
    },
    {
      "cell_type": "markdown",
      "metadata": {
        "id": "K0VQmGnEWcuz"
      },
      "source": [
        "Now, evaluate it again in a batch with a longer sentence. The result should be identical:"
      ]
    },
    {
      "cell_type": "code",
      "metadata": {
        "id": "UIgpuTeFNDzq",
        "colab": {
          "base_uri": "https://localhost:8080/"
        },
        "outputId": "be621c29-7587-4d6d-91f5-d9c70712dba3"
      },
      "source": [
        "# predict on a sample text with padding\n",
        "\n",
        "padding = \"the \" * 2000\n",
        "predictions = model.predict(np.array([sample_text, padding]))\n",
        "print(predictions[0])"
      ],
      "execution_count": 16,
      "outputs": [
        {
          "output_type": "stream",
          "text": [
            "[0.00072879]\n"
          ],
          "name": "stdout"
        }
      ]
    },
    {
      "cell_type": "markdown",
      "metadata": {
        "id": "sRI776ZcH3Tf"
      },
      "source": [
        "Compile the Keras model to configure the training process:"
      ]
    },
    {
      "cell_type": "code",
      "metadata": {
        "id": "kj2xei41YZjC"
      },
      "source": [
        "model.compile(loss=tf.keras.losses.BinaryCrossentropy(from_logits=True),\n",
        "              optimizer=tf.keras.optimizers.Adam(1e-4),\n",
        "              metrics=['accuracy'])"
      ],
      "execution_count": 17,
      "outputs": []
    },
    {
      "cell_type": "markdown",
      "metadata": {
        "id": "zIwH3nto596k"
      },
      "source": [
        "## Train the model"
      ]
    },
    {
      "cell_type": "code",
      "metadata": {
        "id": "hw86wWS4YgR2",
        "colab": {
          "base_uri": "https://localhost:8080/"
        },
        "outputId": "27487a54-6d57-437c-f326-91a855adfe24"
      },
      "source": [
        "history = model.fit(train_dataset, epochs=10,\n",
        "                    validation_data=test_dataset, \n",
        "                    validation_steps=30)"
      ],
      "execution_count": 18,
      "outputs": [
        {
          "output_type": "stream",
          "text": [
            "Epoch 1/10\n",
            "391/391 [==============================] - 107s 251ms/step - loss: 0.6755 - accuracy: 0.5211 - val_loss: 0.4517 - val_accuracy: 0.7698\n",
            "Epoch 2/10\n",
            "391/391 [==============================] - 95s 240ms/step - loss: 0.4093 - accuracy: 0.8142 - val_loss: 0.3621 - val_accuracy: 0.8328\n",
            "Epoch 3/10\n",
            "391/391 [==============================] - 94s 238ms/step - loss: 0.3376 - accuracy: 0.8509 - val_loss: 0.3411 - val_accuracy: 0.8391\n",
            "Epoch 4/10\n",
            "391/391 [==============================] - 94s 239ms/step - loss: 0.3214 - accuracy: 0.8597 - val_loss: 0.3355 - val_accuracy: 0.8583\n",
            "Epoch 5/10\n",
            "391/391 [==============================] - 95s 240ms/step - loss: 0.3077 - accuracy: 0.8686 - val_loss: 0.3329 - val_accuracy: 0.8573\n",
            "Epoch 6/10\n",
            "391/391 [==============================] - 94s 238ms/step - loss: 0.3145 - accuracy: 0.8626 - val_loss: 0.3436 - val_accuracy: 0.8547\n",
            "Epoch 7/10\n",
            "391/391 [==============================] - 93s 237ms/step - loss: 0.3065 - accuracy: 0.8677 - val_loss: 0.3369 - val_accuracy: 0.8443\n",
            "Epoch 8/10\n",
            "391/391 [==============================] - 94s 237ms/step - loss: 0.3026 - accuracy: 0.8695 - val_loss: 0.3234 - val_accuracy: 0.8542\n",
            "Epoch 9/10\n",
            "391/391 [==============================] - 94s 239ms/step - loss: 0.2961 - accuracy: 0.8728 - val_loss: 0.3307 - val_accuracy: 0.8599\n",
            "Epoch 10/10\n",
            "391/391 [==============================] - 95s 242ms/step - loss: 0.2981 - accuracy: 0.8724 - val_loss: 0.3288 - val_accuracy: 0.8495\n"
          ],
          "name": "stdout"
        }
      ]
    },
    {
      "cell_type": "code",
      "metadata": {
        "id": "BaNbXi43YgUT",
        "colab": {
          "base_uri": "https://localhost:8080/"
        },
        "outputId": "6f5d3ea6-2566-4443-c916-c15eff7a059a"
      },
      "source": [
        "test_loss, test_acc = model.evaluate(test_dataset)\n",
        "\n",
        "print('Test Loss: {}'.format(test_loss))\n",
        "print('Test Accuracy: {}'.format(test_acc))"
      ],
      "execution_count": 19,
      "outputs": [
        {
          "output_type": "stream",
          "text": [
            "391/391 [==============================] - 47s 120ms/step - loss: 0.3237 - accuracy: 0.8513\n",
            "Test Loss: 0.323689341545105\n",
            "Test Accuracy: 0.8512799739837646\n"
          ],
          "name": "stdout"
        }
      ]
    },
    {
      "cell_type": "code",
      "metadata": {
        "id": "OZmwt_mzaQJk",
        "colab": {
          "base_uri": "https://localhost:8080/",
          "height": 517
        },
        "outputId": "8b983bea-d3d6-41d4-d753-f363833887be"
      },
      "source": [
        "plt.figure(figsize=(16,8))\n",
        "plt.subplot(1,2,1)\n",
        "plot_graphs(history, 'accuracy')\n",
        "plt.ylim(None,1)\n",
        "plt.subplot(1,2,2)\n",
        "plot_graphs(history, 'loss')\n",
        "plt.ylim(0,None)"
      ],
      "execution_count": 20,
      "outputs": [
        {
          "output_type": "execute_result",
          "data": {
            "text/plain": [
              "(0.0, 0.6338050976395607)"
            ]
          },
          "metadata": {
            "tags": []
          },
          "execution_count": 20
        },
        {
          "output_type": "display_data",
          "data": {
            "image/png": "[encoded data removed]",
            "text/plain": [
              "<Figure size 1152x576 with 2 Axes>"
            ]
          },
          "metadata": {
            "tags": [],
            "needs_background": "light"
          }
        }
      ]
    },
    {
      "cell_type": "markdown",
      "metadata": {
        "id": "DwSE_386uhxD"
      },
      "source": [
        "Run a prediction on a new sentence:\n",
        "\n",
        "If the prediction is >= 0.0, it is positive else it is negative."
      ]
    },
    {
      "cell_type": "code",
      "metadata": {
        "id": "ZXgfQSgRW6zU"
      },
      "source": [
        "sample_text = ('The movie was cool. The animation and the graphics '\n",
        "               'were out of this world. I would recommend this movie.')\n",
        "predictions = model.predict(np.array([sample_text]))"
      ],
      "execution_count": 21,
      "outputs": []
    },
    {
      "cell_type": "markdown",
      "metadata": {
        "id": "7g1evcaRpTKm"
      },
      "source": [
        "## Stack two or more LSTM layers\n",
        "\n",
        "Keras recurrent layers have two available modes that are controlled by the `return_sequences` constructor argument:\n",
        "\n",
        "* If `False` it returns only the last output for each input sequence (a 2D tensor of shape (batch_size, output_features)). This is the default, used in the previous model.\n",
        "\n",
        "* If `True` the full sequences of successive outputs for each timestep is returned (a 3D tensor of shape `(batch_size, timesteps, output_features)`).\n",
        "\n",
        "Here is what the flow of information looks like with `return_sequences=True`:\n",
        "\n",
        "![layered_bidirectional](https://github.com/tensorflow/docs/blob/master/site/en/tutorials/text/images/layered_bidirectional.ipynb?raw=1)"
      ]
    },
    {
      "cell_type": "markdown",
      "metadata": {
        "id": "wbSClCrG1z8l"
      },
      "source": [
        "The interesting thing about using an `RNN` with `return_sequences=True` is that the output still has 3-axes, like the input, so it can be passed to another RNN layer, like this:"
      ]
    },
    {
      "cell_type": "code",
      "metadata": {
        "id": "jo1jjO3vn0jo"
      },
      "source": [
        "model = tf.keras.Sequential([\n",
        "    encoder,\n",
        "    tf.keras.layers.Embedding(len(encoder.get_vocabulary()), 64, mask_zero=True),\n",
        "    tf.keras.layers.Bidirectional(tf.keras.layers.LSTM(64,  return_sequences=True)),\n",
        "    tf.keras.layers.Bidirectional(tf.keras.layers.LSTM(32)),\n",
        "    tf.keras.layers.Dense(64, activation='relu'),\n",
        "    tf.keras.layers.Dropout(0.5),\n",
        "    tf.keras.layers.Dense(1)\n",
        "])"
      ],
      "execution_count": 22,
      "outputs": []
    },
    {
      "cell_type": "code",
      "metadata": {
        "id": "hEPV5jVGp-is"
      },
      "source": [
        "model.compile(loss=tf.keras.losses.BinaryCrossentropy(from_logits=True),\n",
        "              optimizer=tf.keras.optimizers.Adam(1e-4),\n",
        "              metrics=['accuracy'])"
      ],
      "execution_count": 23,
      "outputs": []
    },
    {
      "cell_type": "code",
      "metadata": {
        "id": "LeSE-YjdqAeN",
        "colab": {
          "base_uri": "https://localhost:8080/"
        },
        "outputId": "812cff47-7a1b-4583-cd55-94e59bd27918"
      },
      "source": [
        "history = model.fit(train_dataset, epochs=10,\n",
        "                    validation_data=test_dataset,\n",
        "                    validation_steps=30)"
      ],
      "execution_count": 24,
      "outputs": [
        {
          "output_type": "stream",
          "text": [
            "Epoch 1/10\n",
            "391/391 [==============================] - 197s 453ms/step - loss: 0.6832 - accuracy: 0.5147 - val_loss: 0.4511 - val_accuracy: 0.7854\n",
            "Epoch 2/10\n",
            "391/391 [==============================] - 171s 437ms/step - loss: 0.4034 - accuracy: 0.8193 - val_loss: 0.3713 - val_accuracy: 0.8411\n",
            "Epoch 3/10\n",
            "391/391 [==============================] - 171s 436ms/step - loss: 0.3501 - accuracy: 0.8468 - val_loss: 0.3384 - val_accuracy: 0.8557\n",
            "Epoch 4/10\n",
            "391/391 [==============================] - 171s 436ms/step - loss: 0.3313 - accuracy: 0.8566 - val_loss: 0.3298 - val_accuracy: 0.8573\n",
            "Epoch 5/10\n",
            "391/391 [==============================] - 171s 435ms/step - loss: 0.3181 - accuracy: 0.8641 - val_loss: 0.3298 - val_accuracy: 0.8505\n",
            "Epoch 6/10\n",
            "391/391 [==============================] - 171s 435ms/step - loss: 0.3109 - accuracy: 0.8645 - val_loss: 0.3260 - val_accuracy: 0.8599\n",
            "Epoch 7/10\n",
            "391/391 [==============================] - 169s 432ms/step - loss: 0.3047 - accuracy: 0.8729 - val_loss: 0.3204 - val_accuracy: 0.8594\n",
            "Epoch 8/10\n",
            "391/391 [==============================] - 169s 431ms/step - loss: 0.2982 - accuracy: 0.8720 - val_loss: 0.3182 - val_accuracy: 0.8578\n",
            "Epoch 9/10\n",
            "391/391 [==============================] - 169s 432ms/step - loss: 0.2918 - accuracy: 0.8756 - val_loss: 0.3212 - val_accuracy: 0.8536\n",
            "Epoch 10/10\n",
            "391/391 [==============================] - 170s 434ms/step - loss: 0.2971 - accuracy: 0.8758 - val_loss: 0.3225 - val_accuracy: 0.8635\n"
          ],
          "name": "stdout"
        }
      ]
    },
    {
      "cell_type": "code",
      "metadata": {
        "id": "_LdwilM1qPM3",
        "colab": {
          "base_uri": "https://localhost:8080/"
        },
        "outputId": "89e6cb8d-7939-4fe1-c867-1519742f1f21"
      },
      "source": [
        "test_loss, test_acc = model.evaluate(test_dataset)\n",
        "\n",
        "print('Test Loss: {}'.format(test_loss))\n",
        "print('Test Accuracy: {}'.format(test_acc))"
      ],
      "execution_count": 25,
      "outputs": [
        {
          "output_type": "stream",
          "text": [
            "391/391 [==============================] - 81s 208ms/step - loss: 0.3222 - accuracy: 0.8578\n",
            "Test Loss: 0.3222310543060303\n",
            "Test Accuracy: 0.8577600121498108\n"
          ],
          "name": "stdout"
        }
      ]
    },
    {
      "cell_type": "code",
      "metadata": {
        "id": "ykUKnAoqbycW",
        "colab": {
          "base_uri": "https://localhost:8080/"
        },
        "outputId": "e522db27-4787-45ae-ca68-e3c835082e80"
      },
      "source": [
        "# predict on a sample text without padding.\n",
        "\n",
        "sample_text = ('The movie was not good. The animation and the graphics '\n",
        "                    'were terrible. I would not recommend this movie.')\n",
        "predictions = model.predict(np.array([sample_text]))\n",
        "print(predictions)"
      ],
      "execution_count": 26,
      "outputs": [
        {
          "output_type": "stream",
          "text": [
            "[[-1.8165325]]\n"
          ],
          "name": "stdout"
        }
      ]
    },
    {
      "cell_type": "code",
      "metadata": {
        "id": "_YYub0EDtwCu",
        "colab": {
          "base_uri": "https://localhost:8080/",
          "height": 391
        },
        "outputId": "0a622c16-9737-4886-e869-cd9013eedecc"
      },
      "source": [
        "plt.figure(figsize=(16,6))\n",
        "plt.subplot(1,2,1)\n",
        "plot_graphs(history, 'accuracy')\n",
        "plt.subplot(1,2,2)\n",
        "plot_graphs(history, 'loss')"
      ],
      "execution_count": 27,
      "outputs": [
        {
          "output_type": "display_data",
          "data": {
            "image/png": "[encoded data removed]",
            "text/plain": [
              "<Figure size 1152x432 with 2 Axes>"
            ]
          },
          "metadata": {
            "tags": [],
            "needs_background": "light"
          }
        }
      ]
    },
    {
      "cell_type": "markdown",
      "metadata": {
        "id": "9xvpE3BaGw_V"
      },
      "source": [
        "Check out other existing recurrent layers such as [GRU layers](https://www.tensorflow.org/api_docs/python/tf/keras/layers/GRU).\n",
        "\n",
        "If you're interestied in building custom RNNs, see the [Keras RNN Guide](../../guide/keras/rnn.ipynb).\n"
      ]
    },
    {
      "cell_type": "code",
      "metadata": {
        "id": "ZL-UA1i00-mG"
      },
      "source": [
        ""
      ],
      "execution_count": null,
      "outputs": []
    }
  ]
}